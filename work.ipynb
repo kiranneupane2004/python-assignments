{
 "cells": [
  {
   "cell_type": "code",
   "execution_count": 80,
   "metadata": {},
   "outputs": [
    {
     "name": "stdout",
     "output_type": "stream",
     "text": [
      "The number is even.\n"
     ]
    }
   ],
   "source": [
    "# conditional statements \n",
    "\n",
    "#1. write a program to ask a user to enter a number and check whether the number is even or odd.\n",
    "number = int(input(\"Enter a number: \"))\n",
    "if number % 2 == 0:\n",
    "    print(\"The number is even.\")\n",
    "else:\n",
    "    print(\"The number is odd.\")"
   ]
  },
  {
   "cell_type": "code",
   "execution_count": 11,
   "metadata": {},
   "outputs": [
    {
     "name": "stdout",
     "output_type": "stream",
     "text": [
      "2.5 is positive.\n"
     ]
    }
   ],
   "source": [
    "#2. write a program that ask a user to enter a number and check whether the number is negative, positive or zero.\n",
    "\n",
    "num = float(input(\"Enter a number: \"))\n",
    "if num > 0:\n",
    "    print(f\"{num} is positive.\")\n",
    "elif num < 0:\n",
    "    print(f\"{num} is negative.\")\n",
    "else:\n",
    "    print(f\"{num} is zero.\")"
   ]
  },
  {
   "cell_type": "code",
   "execution_count": 81,
   "metadata": {},
   "outputs": [
    {
     "name": "stdout",
     "output_type": "stream",
     "text": [
      "You are eligible to vote.\n"
     ]
    }
   ],
   "source": [
    "#3. Write a program that asks the user to enter their age and checksif they are eligible to vote (18 years or older).\n",
    "\n",
    "age = int(input(\"Enter your age: \"))\n",
    "if age >= 18:\n",
    "    print(\"You are eligible to vote.\")\n",
    "else:\n",
    "    print(\"You are not eligible to vote.\")"
   ]
  },
  {
   "cell_type": "code",
   "execution_count": 14,
   "metadata": {},
   "outputs": [
    {
     "name": "stdout",
     "output_type": "stream",
     "text": [
      "The triangle is Isosceles.\n"
     ]
    }
   ],
   "source": [
    "#4. Write a program that takes the lengths of three sides of a triangle as input and determines if the triangle is: equilateral,isosceles and scalene.\n",
    "side1 = float(input(\"Enter the length of side 1: \"))\n",
    "side2 = float(input(\"Enter the length of side 2: \"))\n",
    "side3 = float(input(\"Enter the length of side 3: \"))\n",
    "if side1 == side2 == side3:\n",
    "    print(\"The triangle is Equilateral.\")\n",
    "elif side1 == side2 or side2 == side3 or side1 == side3:\n",
    "    print(\"The triangle is Isosceles.\")\n",
    "else:\n",
    "    print(\"The triangle is Scalene.\")\n",
    " "
   ]
  },
  {
   "cell_type": "code",
   "execution_count": 15,
   "metadata": {},
   "outputs": [
    {
     "name": "stdout",
     "output_type": "stream",
     "text": [
      "Incorrect password. Please try again.\n"
     ]
    }
   ],
   "source": [
    "#5.Write a program that asks the user to enter a password and checks if it matches a predefined password (e.g., \"Python123\").\n",
    "correct_password = \"Python123\"\n",
    "password = input(\"Enter your password: \")\n",
    "if password == correct_password:\n",
    "    print(\"Password is correct!\")\n",
    "else:\n",
    "    print(\"Incorrect password. Please try again.\")"
   ]
  },
  {
   "cell_type": "code",
   "execution_count": 17,
   "metadata": {},
   "outputs": [
    {
     "name": "stdout",
     "output_type": "stream",
     "text": [
      "5, 10, 15, 20, 25, 30, 35, 40, 45, 50\n"
     ]
    }
   ],
   "source": [
    "# for loops \n",
    "\n",
    "#6. Multiplication Table: Write a Python program to print the multiplication table of a given number using a for loop.Example:Input: 5 Output: 5, 10, 15, ..., 50\n",
    "\n",
    "num = int(input(\"Enter a number: \"))\n",
    "for i in range(1, 11):\n",
    "    print(num * i, end=\", \" if i < 10 else \"\\n\")\n",
    " \n"
   ]
  },
  {
   "cell_type": "code",
   "execution_count": 18,
   "metadata": {},
   "outputs": [
    {
     "name": "stdout",
     "output_type": "stream",
     "text": [
      "Number of vowels: 4\n"
     ]
    }
   ],
   "source": [
    "#7. Count Vowels: Write a program to count and display the number of vowels in a given string.\n",
    "string = input(\"Enter a string: \")\n",
    "\n",
    "vowel_count = 0\n",
    "\n",
    "for char in string.lower():  \n",
    "    if char in 'aeiou':\n",
    "        vowel_count += 1\n",
    "\n",
    "print(f\"Number of vowels: {vowel_count}\")\n"
   ]
  },
  {
   "cell_type": "code",
   "execution_count": 21,
   "metadata": {},
   "outputs": [
    {
     "name": "stdout",
     "output_type": "stream",
     "text": [
      "Sum of even numbers: 10\n"
     ]
    }
   ],
   "source": [
    "#8. Sum of Even Numbers Create a program to find the sum of all even numbers in a list using a for loop. Given list of numbers numbers = [2, 5, 8, 3]\n",
    "\n",
    "\n",
    "numbers = [2, 5, 8, 3]\n",
    "\n",
    "even_sum = 0\n",
    "\n",
    "for num in numbers:\n",
    "    if num % 2 == 0:\n",
    "        even_sum += num\n",
    "\n",
    "print(f\"Sum of even numbers: {even_sum}\")\n"
   ]
  },
  {
   "cell_type": "code",
   "execution_count": 22,
   "metadata": {},
   "outputs": [
    {
     "name": "stdout",
     "output_type": "stream",
     "text": [
      "Largest = 20, Smallest = 5\n"
     ]
    }
   ],
   "source": [
    "#9.Create a program to find the largest and smallest numbers in a list using a for loop.Example: Input = [10, 20, 5, 8], Output = Largest = 20, Smallest = 5\n",
    "\n",
    "numbers = [10, 20, 5, 8]\n",
    "\n",
    "largest = smallest = numbers[0]\n",
    "\n",
    "for num in numbers:\n",
    "    if num > largest:\n",
    "        largest = num\n",
    "    if num < smallest:\n",
    "        smallest = num\n",
    "\n",
    "print(f\"Largest = {largest}, Smallest = {smallest}\")\n"
   ]
  },
  {
   "cell_type": "code",
   "execution_count": 23,
   "metadata": {},
   "outputs": [
    {
     "name": "stdout",
     "output_type": "stream",
     "text": [
      "Sum of digits: 1\n"
     ]
    }
   ],
   "source": [
    "#10. Write a program to calculate the sum of digits of a given number using a for loop.Example: Input = 1234, Output = 10\n",
    "\n",
    "num = int(input(\"Enter a number: \"))\n",
    "\n",
    "digit_sum = 0\n",
    "\n",
    "for digit in str(num):  \n",
    "    digit_sum += int(digit)\n",
    "\n",
    "print(f\"Sum of digits: {digit_sum}\")\n"
   ]
  },
  {
   "cell_type": "code",
   "execution_count": 24,
   "metadata": {},
   "outputs": [
    {
     "name": "stdout",
     "output_type": "stream",
     "text": [
      "Reversed string: narik\n"
     ]
    }
   ],
   "source": [
    "#11. Write a program to reverse a given string using a for loop.Example: Input = \"Python\", Output = \"nohtyP\"\n",
    "\n",
    "string = input(\"Enter a string: \")\n",
    "\n",
    "reversed_string = \"\"\n",
    "\n",
    "for char in string:\n",
    "    reversed_string = char + reversed_string  \n",
    "\n",
    "print(f\"Reversed string: {reversed_string}\")\n"
   ]
  },
  {
   "cell_type": "code",
   "execution_count": 45,
   "metadata": {},
   "outputs": [
    {
     "name": "stdout",
     "output_type": "stream",
     "text": [
      "6\n"
     ]
    }
   ],
   "source": [
    " #Functions\n",
    "#1. Factorial Function: Write a function factorial(n) that returns the factorial of a number using a for loop.\n",
    "def factorial(n):\n",
    "    result = 1\n",
    "    for i in range(1, n + 1):\n",
    "        result *= i\n",
    "    return result\n",
    "\n",
    "print(factorial(3))  "
   ]
  },
  {
   "cell_type": "code",
   "execution_count": 36,
   "metadata": {},
   "outputs": [
    {
     "name": "stdout",
     "output_type": "stream",
     "text": [
      "False\n"
     ]
    }
   ],
   "source": [
    "#2. Prime Check Function: Create a function is_prime(n) to check whether a number is prime.\n",
    "\n",
    "def is_prime(n):\n",
    "    \n",
    "    if n <= 1:\n",
    "        return False\n",
    "    \n",
    "    for i in range(2, int(n ** 0.5) + 1):\n",
    "        if n % i == 0:\n",
    "            return False\n",
    "    return True\n",
    "print(is_prime(9)) "
   ]
  },
  {
   "cell_type": "code",
   "execution_count": 37,
   "metadata": {},
   "outputs": [
    {
     "name": "stdout",
     "output_type": "stream",
     "text": [
      "7\n"
     ]
    }
   ],
   "source": [
    "#3. Find Maximum in List:Write a function find_max(lst) to find and return the maximum value in a list. Example:○ Input: [1, 3, 7, 0] ○ Output: 7\n",
    "def find_max(lst):\n",
    "    \n",
    "    if not lst:\n",
    "        return None  \n",
    "    max_value = lst[0]\n",
    "    \n",
    "    for num in lst:\n",
    "        if num > max_value:\n",
    "            max_value = num\n",
    "    return max_value\n",
    "\n",
    "print(find_max([1, 3, 7, 0]))  "
   ]
  },
  {
   "cell_type": "code",
   "execution_count": 55,
   "metadata": {},
   "outputs": [
    {
     "name": "stdout",
     "output_type": "stream",
     "text": [
      "False\n"
     ]
    }
   ],
   "source": [
    "#4. Write a function palindrome_check(string) that returns True if the given string is a palindrome, otherwise False. Example: Input = \"radar\", Output = True\n",
    "def palindrome_check(string):\n",
    "\n",
    "    return string == string[::-1]\n",
    "\n",
    "# Example usage\n",
    "print(palindrome_check(\"food\")) "
   ]
  },
  {
   "cell_type": "code",
   "execution_count": 39,
   "metadata": {},
   "outputs": [
    {
     "name": "stdout",
     "output_type": "stream",
     "text": [
      "14\n"
     ]
    }
   ],
   "source": [
    "#5. Write a function sum_of_squares(n) that returns the sum of squares of the first n natural numbers.\n",
    "def sum_of_squares(n):\n",
    "\n",
    "    total = 0\n",
    "    for i in range(1, n + 1):\n",
    "        total += i ** 2\n",
    "    return total\n",
    "\n",
    "\n",
    "print(sum_of_squares(3))  \n"
   ]
  },
  {
   "cell_type": "code",
   "execution_count": 40,
   "metadata": {},
   "outputs": [
    {
     "name": "stdout",
     "output_type": "stream",
     "text": [
      "14\n"
     ]
    }
   ],
   "source": [
    "#6. Write a function sum_of_squares(n) that returns the sum of squares of the first n natural numbers. Example: Input = 3, Output = 1^2 + 2^2 + 3^2 = 14\n",
    "def sum_of_squares(n):\n",
    "    \n",
    "    total = 0\n",
    "    for i in range(1, n + 1):\n",
    "        total += i ** 2\n",
    "    return total\n",
    "\n",
    "\n",
    "print(sum_of_squares(3))\n"
   ]
  },
  {
   "cell_type": "code",
   "execution_count": 42,
   "metadata": {},
   "outputs": [
    {
     "name": "stdout",
     "output_type": "stream",
     "text": [
      "Area: 12\n",
      "Perimeter: 16\n"
     ]
    }
   ],
   "source": [
    "#Classes\n",
    "#1. Rectangle Class:Define a class Rectangle with:Two attributes: length and width.A method area() to calculate the area.A method perimeter() to calculate the perimeter.\n",
    "\n",
    "class Rectangle:\n",
    "    def __init__(self, length, width):\n",
    "        self.length = length\n",
    "        self.width = width\n",
    "\n",
    "    def area(self):\n",
    "        return self.length * self.width\n",
    "\n",
    "    def perimeter(self):\n",
    "        return 2 * (self.length + self.width)\n",
    "\n",
    "\n",
    "rect = Rectangle(6, 2)\n",
    "print(\"Area:\", rect.area())  \n",
    "print(\"Perimeter:\", rect.perimeter()) \n",
    " \n",
    "\n",
    " "
   ]
  },
  {
   "cell_type": "code",
   "execution_count": 47,
   "metadata": {},
   "outputs": [
    {
     "name": "stdout",
     "output_type": "stream",
     "text": [
      "Name: kiran neupane\n",
      "Roll Number: 5\n",
      "Marks: 50\n",
      "Passed: True\n"
     ]
    }
   ],
   "source": [
    "#2. Student Class: Create a class Student with: Attributes: name, roll_number, and marks. A method display_details() to print the student's details.method is_passed() that returns True if marks ≥ 40, else False.\n",
    "class Student:\n",
    "    def __init__(self, name, roll_number, marks):\n",
    "        self.name = name\n",
    "        self.roll_number = roll_number\n",
    "        self.marks = marks\n",
    "\n",
    "    def display_details(self):\n",
    "        print(f\"Name: {self.name}\")\n",
    "        print(f\"Roll Number: {self.roll_number}\")\n",
    "        print(f\"Marks: {self.marks}\")\n",
    "\n",
    "    def is_passed(self):\n",
    "        return self.marks >= 40\n",
    "\n",
    "student = Student(\"kiran neupane\", 5, 50)\n",
    "student.display_details()\n",
    "print(\"Passed:\", student.is_passed())  \n"
   ]
  },
  {
   "cell_type": "code",
   "execution_count": 57,
   "metadata": {},
   "outputs": [
    {
     "name": "stdout",
     "output_type": "stream",
     "text": [
      "Area: 12.566370614359172\n",
      "Circumference: 12.566370614359172\n"
     ]
    }
   ],
   "source": [
    "#3. Define a class Circle with:Attribute: radius.Methods: area() to calculate the area, circumference() tocalculate the circumference.\n",
    "import math\n",
    "\n",
    "class Circle:\n",
    "    def __init__(self, radius):\n",
    "        self.radius = radius\n",
    "\n",
    "    def area(self):\n",
    "        return math.pi * (self.radius ** 2)\n",
    "\n",
    "    def circumference(self):\n",
    "        return 2 * math.pi * self.radius\n",
    "\n",
    "circle = Circle(2)\n",
    "print(\"Area:\", circle.area())  \n",
    "print(\"Circumference:\", circle.circumference()) \n"
   ]
  },
  {
   "cell_type": "code",
   "execution_count": 64,
   "metadata": {},
   "outputs": [
    {
     "name": "stdout",
     "output_type": "stream",
     "text": [
      "Deposited 1000. New balance: 2000\n",
      "Withdrew 500. New balance: 1500\n",
      "Current balance: 1500\n"
     ]
    }
   ],
   "source": [
    "#4. Create a class BankAccount with:Attributes: account_number, account_holder, balance. Methods:deposit(amount) to add money to the account.○ withdraw(amount) to subtract money (if sufficientbalance is available).display_balance() to print the current balance.\n",
    "\n",
    "class BankAccount:\n",
    "    def __init__(self, account_number, account_holder, balance=0):\n",
    "        self.account_number = account_number\n",
    "        self.account_holder = account_holder\n",
    "        self.balance = balance\n",
    "\n",
    "    def deposit(self, amount):\n",
    "        self.balance += amount\n",
    "        print(f\"Deposited {amount}. New balance: {self.balance}\")\n",
    "\n",
    "    def withdraw(self, amount):\n",
    "        if amount <= self.balance:\n",
    "            self.balance -= amount\n",
    "            print(f\"Withdrew {amount}. New balance: {self.balance}\")\n",
    "        else:\n",
    "            print(\"Insufficient balance.\")\n",
    "\n",
    "    def display_balance(self):\n",
    "        print(f\"Current balance: {self.balance}\")\n",
    "\n",
    "\n",
    "account = BankAccount(\"123456\", \"kiran\", 1000)\n",
    "account.deposit(1000)\n",
    "account.withdraw(500)\n",
    "account.display_balance()  \n",
    "\n",
    "\n"
   ]
  },
  {
   "cell_type": "code",
   "execution_count": 67,
   "metadata": {},
   "outputs": [
    {
     "name": "stdout",
     "output_type": "stream",
     "text": [
      "Title: rich dad poor dad\n",
      "Author: Robert T.Kiyosaki\n",
      "Price: $13.50\n"
     ]
    }
   ],
   "source": [
    "#5. A class Book with:Attributes: title, author, price.Methods: apply_discount(discount) to reduce the price by agiven percentage.display_details() to print the book details.\n",
    "class Book:\n",
    "    def __init__(self, title, author, price):\n",
    "        self.title = title\n",
    "        self.author = author\n",
    "        self.price = price\n",
    "\n",
    "    def apply_discount(self, discount):\n",
    "        self.price -= (self.price * discount / 100)\n",
    "\n",
    "    def display_details(self):\n",
    "        print(f\"Title: {self.title}\")\n",
    "        print(f\"Author: {self.author}\")\n",
    "        print(f\"Price: ${self.price:.2f}\")\n",
    "\n",
    "book = Book(\"rich dad poor dad\", \"Robert T.Kiyosaki\", 15)\n",
    "book.apply_discount(10)\n",
    "book.display_details() \n"
   ]
  },
  {
   "cell_type": "code",
   "execution_count": 69,
   "metadata": {},
   "outputs": [
    {
     "name": "stdout",
     "output_type": "stream",
     "text": [
      "8\n",
      "1\n",
      "15\n",
      "Cannot divide by zero\n"
     ]
    }
   ],
   "source": [
    "#6. Create a class Calculator with:A method add(a, b) to add two numbers.A method subtract(a, b) to subtract two numbers.A method multiply(a, b) to multiply two numbers.A method divide(a, b) to divide two numbers (handle divisionby zero gracefully).\n",
    "class Calculator:\n",
    "    def add(self, a, b):\n",
    "        return a + b\n",
    "\n",
    "    def subtract(self, a, b):\n",
    "        return a - b\n",
    "\n",
    "    def multiply(self, a, b):\n",
    "        return a * b\n",
    "\n",
    "    def divide(self, a, b):\n",
    "        if b == 0:\n",
    "            return \"Cannot divide by zero\"\n",
    "        return a / b\n",
    "\n",
    "calc = Calculator()\n",
    "print(calc.add(2,6))  \n",
    "print(calc.subtract(8,7))  \n",
    "print(calc.multiply(5, 3))  \n",
    "print(calc.divide(5, 0))  "
   ]
  },
  {
   "cell_type": "code",
   "execution_count": 71,
   "metadata": {},
   "outputs": [
    {
     "name": "stdout",
     "output_type": "stream",
     "text": [
      "Hello, my name is kiran, I am 19 years old, and I am a feMale.\n"
     ]
    }
   ],
   "source": [
    "#7. Write a class Person with:Attributes: name, age, gender.Method introduce() to print a message like: \"Hello, my nameis [name], I am [age] years old, and I am a [gender].\"Create a subclass Employee that adds:Attribute: job_title.\n",
    "\n",
    "class Person:\n",
    "    def __init__(self, name, age, gender):\n",
    "        self.name = name\n",
    "        self.age = age\n",
    "        self.gender = gender\n",
    "\n",
    "    def introduce(self):\n",
    "        print(f\"Hello, my name is {self.name}, I am {self.age} years old, and I am a {self.gender}.\")\n",
    "\n",
    "\n",
    "person = Person(\"kiran\", 19, \"feMale\")\n",
    "person.introduce()  "
   ]
  },
  {
   "cell_type": "code",
   "execution_count": 72,
   "metadata": {},
   "outputs": [
    {
     "name": "stdout",
     "output_type": "stream",
     "text": [
      "File Contents:\n",
      "1\n",
      "2\n",
      "3\n",
      "4\n",
      "5\n",
      "6\n",
      "7\n",
      "8\n",
      "9\n",
      "10\n",
      "\n"
     ]
    }
   ],
   "source": [
    "#File Handling\n",
    "#1. File Creation and Writing: Write a Python script to:Create a file named data.txt.Write the numbers from 1 to 10 (each on a new line) to the file.Read the file and print its contents.\n",
    "with open('data.txt', 'w') as file:\n",
    "    \n",
    "    for i in range(1, 11):\n",
    "        file.write(f\"{i}\\n\")\n",
    "\n",
    "\n",
    "with open('data.txt', 'r') as file:\n",
    "    content = file.read()\n",
    "\n",
    "print(\"File Contents:\")\n",
    "print(content)\n"
   ]
  },
  {
   "cell_type": "code",
   "execution_count": 77,
   "metadata": {},
   "outputs": [
    {
     "name": "stdout",
     "output_type": "stream",
     "text": [
      "The file 'sample.txt' was not found.\n"
     ]
    }
   ],
   "source": [
    "#2. Word Count in File: Write a program that reads a file named sample.txt, counts the number of words in it, and prints the result.\n",
    "try:\n",
    "    with open('sample.txt', 'r') as file:\n",
    "        contents = file.read()\n",
    "        words = contents.split()\n",
    "        word_count = len(words)\n",
    "        print(f\"Number of words in the file: {word_count}\")\n",
    "except FileNotFoundError:\n",
    "    print(\"The file 'sample.txt' was not found.\")"
   ]
  },
  {
   "cell_type": "code",
   "execution_count": 74,
   "metadata": {},
   "outputs": [
    {
     "name": "stdout",
     "output_type": "stream",
     "text": [
      "Result: 0.5238095238095238\n"
     ]
    }
   ],
   "source": [
    "#Error Handling\n",
    "#1. Division with Error Handling: Write a program that takes two numbers as input and divides the first number by the second.Use try and except to handle the division by zero error.\n",
    "def safe_divide():\n",
    "    try:\n",
    "    \n",
    "        num1 = float(input(\"Enter the first number: \"))\n",
    "        num2 = float(input(\"Enter the second number: \"))\n",
    "        \n",
    "        \n",
    "        result = num1 / num2\n",
    "        print(f\"Result: {result}\")\n",
    "    \n",
    "    except ZeroDivisionError:\n",
    "        print(\"Error: Cannot divide by zero.\")\n",
    "    except ValueError:\n",
    "        print(\"Error: Please enter valid numbers.\")\n",
    "\n",
    "\n",
    "safe_divide()\n"
   ]
  },
  {
   "cell_type": "code",
   "execution_count": 75,
   "metadata": {},
   "outputs": [
    {
     "name": "stdout",
     "output_type": "stream",
     "text": [
      "You entered the integer: 5\n"
     ]
    }
   ],
   "source": [
    "#2. Integer Input Validation: Create a program that asks the user to input an integer.Use try, except, and else to handle invalid input.Example:Input: abc Output: \"Invalid input, please enter an integer.\"\n",
    "def get_integer_input():\n",
    "    try:\n",
    "    \n",
    "        user_input = input(\"Please enter an integer: \")\n",
    "        user_integer = int(user_input)\n",
    "    except ValueError:\n",
    "        print(\"Invalid input, please enter an integer.\")\n",
    "    else:\n",
    "        print(f\"You entered the integer: {user_integer}\")\n",
    "        \n",
    "get_integer_input()"
   ]
  },
  {
   "cell_type": "code",
   "execution_count": 76,
   "metadata": {},
   "outputs": [
    {
     "name": "stdout",
     "output_type": "stream",
     "text": [
      "Error: The file 'unknown.txt' was not found.\n"
     ]
    }
   ],
   "source": [
    "#3. File Not Found Error Handling: Write a script that:Opens a file named unknown.txt.Handles the FileNotFoundError gracefully and prints an appropriate message.\n",
    "def open_file(filename):\n",
    "    try:\n",
    "    \n",
    "        with open(filename, 'r') as file:\n",
    "            content = file.read()\n",
    "            print(f\"File content of {filename}:\\n{content}\")\n",
    "    except FileNotFoundError:\n",
    "        print(f\"Error: The file '{filename}' was not found.\")\n",
    "\n",
    "\n",
    "filename = 'unknown.txt'\n",
    "open_file(filename)\n",
    "\n"
   ]
  }
 ],
 "metadata": {
  "kernelspec": {
   "display_name": "base",
   "language": "python",
   "name": "python3"
  },
  "language_info": {
   "codemirror_mode": {
    "name": "ipython",
    "version": 3
   },
   "file_extension": ".py",
   "mimetype": "text/x-python",
   "name": "python",
   "nbconvert_exporter": "python",
   "pygments_lexer": "ipython3",
   "version": "3.12.7"
  }
 },
 "nbformat": 4,
 "nbformat_minor": 2
}
